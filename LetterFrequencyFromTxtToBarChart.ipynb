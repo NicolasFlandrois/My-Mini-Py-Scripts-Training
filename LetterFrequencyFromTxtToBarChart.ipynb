{
 "cells": [
  {
   "cell_type": "code",
   "execution_count": 1,
   "metadata": {},
   "outputs": [],
   "source": [
    "import collections\n",
    "from pprint import pprint\n",
    "from matplotlib import pyplot as plt"
   ]
  },
  {
   "cell_type": "code",
   "execution_count": 2,
   "metadata": {},
   "outputs": [
    {
     "name": "stdout",
     "output_type": "stream",
     "text": [
      "The Zen of Python, by Tim Peters\n",
      "\n",
      "Beautiful is better than ugly.\n",
      "Explicit is better than implicit.\n",
      "Simple is better than complex.\n",
      "Complex is better than complicated.\n",
      "Flat is better than nested.\n",
      "Sparse is better than dense.\n",
      "Readability counts.\n",
      "Special cases aren't special enough to break the rules.\n",
      "Although practicality beats purity.\n",
      "Errors should never pass silently.\n",
      "Unless explicitly silenced.\n",
      "In the face of ambiguity, refuse the temptation to guess.\n",
      "There should be one-- and preferably only one --obvious way to do it.\n",
      "Although that way may not be obvious at first unless you're Dutch.\n",
      "Now is better than never.\n",
      "Although never is often better than *right* now.\n",
      "If the implementation is hard to explain, it's a bad idea.\n",
      "If the implementation is easy to explain, it may be a good idea.\n",
      "Namespaces are one honking great idea -- let's do more of those!\n"
     ]
    }
   ],
   "source": [
    "import this\n"
   ]
  },
  {
   "cell_type": "code",
   "execution_count": 3,
   "metadata": {},
   "outputs": [
    {
     "name": "stdout",
     "output_type": "stream",
     "text": [
      "\n",
      "The Zen of Python, by Tim Peters\n",
      "\n",
      "Beautiful is better than ugly.\n",
      "Explicit is better than implicit.\n",
      "Simple is better than complex.\n",
      "Complex is better than complicated.\n",
      "Flat is better than nested.\n",
      "Sparse is better than dense.\n",
      "Readability counts.\n",
      "Special cases aren't special enough to break the rules.\n",
      "Although practicality beats purity.\n",
      "Errors should never pass silently.\n",
      "Unless explicitly silenced.\n",
      "In the face of ambiguity, refuse the temptation to guess.\n",
      "There should be one-- and preferably only one --obvious way to do it.\n",
      "Although that way may not be obvious at first unless you're Dutch.\n",
      "Now is better than never.\n",
      "Although never is often better than *right* now.\n",
      "If the implementation is hard to explain, it's a bad idea.\n",
      "If the implementation is easy to explain, it may be a good idea.\n",
      "Namespaces are one honking great idea -- let's do more of those!\n",
      "\n"
     ]
    }
   ],
   "source": [
    "zen = '''\n",
    "The Zen of Python, by Tim Peters\n",
    "\n",
    "Beautiful is better than ugly.\n",
    "Explicit is better than implicit.\n",
    "Simple is better than complex.\n",
    "Complex is better than complicated.\n",
    "Flat is better than nested.\n",
    "Sparse is better than dense.\n",
    "Readability counts.\n",
    "Special cases aren't special enough to break the rules.\n",
    "Although practicality beats purity.\n",
    "Errors should never pass silently.\n",
    "Unless explicitly silenced.\n",
    "In the face of ambiguity, refuse the temptation to guess.\n",
    "There should be one-- and preferably only one --obvious way to do it.\n",
    "Although that way may not be obvious at first unless you're Dutch.\n",
    "Now is better than never.\n",
    "Although never is often better than *right* now.\n",
    "If the implementation is hard to explain, it's a bad idea.\n",
    "If the implementation is easy to explain, it may be a good idea.\n",
    "Namespaces are one honking great idea -- let's do more of those!\n",
    "'''\n",
    "print(zen)"
   ]
  },
  {
   "cell_type": "markdown",
   "metadata": {},
   "source": [
    "# Letters Frequency\n",
    "## Method 1"
   ]
  },
  {
   "cell_type": "code",
   "execution_count": 4,
   "metadata": {},
   "outputs": [
    {
     "name": "stdout",
     "output_type": "stream",
     "text": [
      "{'\\n': 22, 'T': 3, 'h': 31, 'e': 90, ' ': 124, 'Z': 1, 'n': 40, 'o': 43, 'f': 11, 'P': 2, 'y': 17, 't': 76, ',': 4, 'b': 20, 'i': 50, 'm': 16, 'r': 32, 's': 43, 'B': 1, 'a': 50, 'u': 20, 'l': 33, 'g': 11, '.': 18, 'E': 2, 'x': 6, 'p': 20, 'c': 16, 'S': 3, 'C': 1, 'd': 16, 'F': 1, 'R': 1, \"'\": 4, 'k': 2, 'A': 3, 'v': 5, 'U': 1, 'I': 3, '-': 6, 'w': 4, 'D': 1, 'N': 2, '*': 2, '!': 1}\n"
     ]
    },
    {
     "data": {
      "image/png": "[encoded data removed]",
      "text/plain": [
       "<Figure size 432x288 with 1 Axes>"
      ]
     },
     "metadata": {
      "needs_background": "light"
     },
     "output_type": "display_data"
    }
   ],
   "source": [
    "d1 = {}\n",
    "\n",
    "for char in zen:\n",
    "    if char in d1:\n",
    "        d1[char] += 1\n",
    "    else:\n",
    "        d1[char] = 1\n",
    "        \n",
    "print(d1)\n",
    "\n",
    "x1, y1 = zip(*d1.items())\n",
    "plt.bar(x1, y1)\n",
    "plt.show()"
   ]
  },
  {
   "cell_type": "markdown",
   "metadata": {},
   "source": [
    "## Method 2"
   ]
  },
  {
   "cell_type": "code",
   "execution_count": 5,
   "metadata": {},
   "outputs": [
    {
     "name": "stdout",
     "output_type": "stream",
     "text": [
      "{'\\n': 22, 'T': 3, 'h': 31, 'e': 90, ' ': 124, 'Z': 1, 'n': 40, 'o': 43, 'f': 11, 'P': 2, 'y': 17, 't': 76, ',': 4, 'b': 20, 'i': 50, 'm': 16, 'r': 32, 's': 43, 'B': 1, 'a': 50, 'u': 20, 'l': 33, 'g': 11, '.': 18, 'E': 2, 'x': 6, 'p': 20, 'c': 16, 'S': 3, 'C': 1, 'd': 16, 'F': 1, 'R': 1, \"'\": 4, 'k': 2, 'A': 3, 'v': 5, 'U': 1, 'I': 3, '-': 6, 'w': 4, 'D': 1, 'N': 2, '*': 2, '!': 1}\n"
     ]
    },
    {
     "data": {
      "image/png": "[encoded data removed]",
      "text/plain": [
       "<Figure size 432x288 with 1 Axes>"
      ]
     },
     "metadata": {
      "needs_background": "light"
     },
     "output_type": "display_data"
    }
   ],
   "source": [
    "d2 = {}\n",
    "\n",
    "for char in zen:\n",
    "    d2[char] = d2.get(char, 0) + 1\n",
    "    \n",
    "print(d2)\n",
    "\n",
    "plt.bar(d2.keys(), d2.values())\n",
    "plt.show()"
   ]
  },
  {
   "cell_type": "markdown",
   "metadata": {},
   "source": [
    "## Method 3"
   ]
  },
  {
   "cell_type": "code",
   "execution_count": 6,
   "metadata": {},
   "outputs": [
    {
     "name": "stdout",
     "output_type": "stream",
     "text": [
      "Counter({' ': 124, 'e': 90, 't': 76, 'i': 50, 'a': 50, 'o': 43, 's': 43, 'n': 40, 'l': 33, 'r': 32, 'h': 31, '\\n': 22, 'b': 20, 'u': 20, 'p': 20, '.': 18, 'y': 17, 'm': 16, 'c': 16, 'd': 16, 'f': 11, 'g': 11, 'x': 6, '-': 6, 'v': 5, ',': 4, \"'\": 4, 'w': 4, 'T': 3, 'S': 3, 'A': 3, 'I': 3, 'P': 2, 'E': 2, 'k': 2, 'N': 2, '*': 2, 'Z': 1, 'B': 1, 'C': 1, 'F': 1, 'R': 1, 'U': 1, 'D': 1, '!': 1})\n"
     ]
    },
    {
     "data": {
      "image/png": "[encoded data removed]",
      "text/plain": [
       "<Figure size 432x288 with 1 Axes>"
      ]
     },
     "metadata": {
      "needs_background": "light"
     },
     "output_type": "display_data"
    }
   ],
   "source": [
    "count = collections.Counter(zen)\n",
    "print(count)\n",
    "plt.bar(count.keys(), count.values())\n",
    "plt.show()"
   ]
  },
  {
   "cell_type": "markdown",
   "metadata": {},
   "source": [
    "## How About Creating a Pie Chart... For fun!"
   ]
  },
  {
   "cell_type": "code",
   "execution_count": 7,
   "metadata": {},
   "outputs": [
    {
     "name": "stdout",
     "output_type": "stream",
     "text": [
      "Counter({' ': 124,\n",
      "         'e': 90,\n",
      "         't': 76,\n",
      "         'i': 50,\n",
      "         'a': 50,\n",
      "         'o': 43,\n",
      "         's': 43,\n",
      "         'n': 40,\n",
      "         'l': 33,\n",
      "         'r': 32,\n",
      "         'h': 31,\n",
      "         '\\n': 22,\n",
      "         'b': 20,\n",
      "         'u': 20,\n",
      "         'p': 20,\n",
      "         '.': 18,\n",
      "         'y': 17,\n",
      "         'm': 16,\n",
      "         'c': 16,\n",
      "         'd': 16,\n",
      "         'f': 11,\n",
      "         'g': 11,\n",
      "         'x': 6,\n",
      "         '-': 6,\n",
      "         'v': 5,\n",
      "         ',': 4,\n",
      "         \"'\": 4,\n",
      "         'w': 4,\n",
      "         'T': 3,\n",
      "         'S': 3,\n",
      "         'A': 3,\n",
      "         'I': 3,\n",
      "         'P': 2,\n",
      "         'E': 2,\n",
      "         'k': 2,\n",
      "         'N': 2,\n",
      "         '*': 2,\n",
      "         'Z': 1,\n",
      "         'B': 1,\n",
      "         'C': 1,\n",
      "         'F': 1,\n",
      "         'R': 1,\n",
      "         'U': 1,\n",
      "         'D': 1,\n",
      "         '!': 1})\n"
     ]
    }
   ],
   "source": [
    "pprint(count)"
   ]
  },
  {
   "cell_type": "code",
   "execution_count": 8,
   "metadata": {},
   "outputs": [
    {
     "data": {
      "image/png": "[encoded data removed]",
      "text/plain": [
       "<Figure size 432x288 with 1 Axes>"
      ]
     },
     "metadata": {},
     "output_type": "display_data"
    }
   ],
   "source": [
    "plt.pie(count.values(), labels = count.keys())\n",
    "plt.show()"
   ]
  },
  {
   "cell_type": "code",
   "execution_count": null,
   "metadata": {},
   "outputs": [],
   "source": []
  }
 ],
 "metadata": {
  "kernelspec": {
   "display_name": "Python 3",
   "language": "python",
   "name": "python3"
  },
  "language_info": {
   "codemirror_mode": {
    "name": "ipython",
    "version": 3
   },
   "file_extension": ".py",
   "mimetype": "text/x-python",
   "name": "python",
   "nbconvert_exporter": "python",
   "pygments_lexer": "ipython3",
   "version": "3.9.0"
  }
 },
 "nbformat": 4,
 "nbformat_minor": 4
}
