{
 "cells": [
  {
   "cell_type": "markdown",
   "metadata": {},
   "source": [
    "### Print Numbers from 0 to 100 (as integers) Without Using Any Numbers in your Code"
   ]
  },
  {
   "cell_type": "code",
   "execution_count": 1,
   "metadata": {},
   "outputs": [],
   "source": [
    "import string"
   ]
  },
  {
   "cell_type": "code",
   "execution_count": 2,
   "metadata": {},
   "outputs": [],
   "source": [
    "num_alpha = [\"zero\", \"one\", \"two\", \"three\", \"four\", \"five\", \"six\", \"seven\", \"eight\", \"nine\"]\n",
    "\n",
    "print(num_alpha)"
   ]
  },
  {
   "cell_type": "code",
   "execution_count": 3,
   "metadata": {},
   "outputs": [],
   "source": [
    "print(string.digits)\n",
    "print(type(string.digits))"
   ]
  },
  {
   "cell_type": "code",
   "execution_count": 4,
   "metadata": {},
   "outputs": [
    {
     "name": "stdout",
     "output_type": "stream",
     "text": [
      "{'zero': '0', 'one': '1', 'two': '2', 'three': '3', 'four': '4', 'five': '5', 'six': '6', 'seven': '7', 'eight': '8', 'nine': '9'}\n"
     ]
    }
   ],
   "source": [
    "dict_num = {num_alpha[i] : n for i, n in enumerate(string.digits)}\n",
    "    \n",
    "print(dict_num)"
   ]
  },
  {
   "cell_type": "code",
   "execution_count": 5,
   "metadata": {},
   "outputs": [
    {
     "name": "stdout",
     "output_type": "stream",
     "text": [
      "101\n",
      "<class 'str'>\n"
     ]
    }
   ],
   "source": [
    "one_o_one = dict_num['one'] + dict_num['zero'] + dict_num['one']\n",
    "\n",
    "print(one_o_one)\n",
    "print(type(one_o_one))"
   ]
  },
  {
   "cell_type": "code",
   "execution_count": 6,
   "metadata": {},
   "outputs": [
    {
     "name": "stdout",
     "output_type": "stream",
     "text": [
      "0 \t <class 'int'>\n",
      "1 \t <class 'int'>\n",
      "2 \t <class 'int'>\n",
      "3 \t <class 'int'>\n",
      "4 \t <class 'int'>\n",
      "5 \t <class 'int'>\n",
      "6 \t <class 'int'>\n",
      "7 \t <class 'int'>\n",
      "8 \t <class 'int'>\n",
      "9 \t <class 'int'>\n",
      "10 \t <class 'int'>\n",
      "11 \t <class 'int'>\n",
      "12 \t <class 'int'>\n",
      "13 \t <class 'int'>\n",
      "14 \t <class 'int'>\n",
      "15 \t <class 'int'>\n",
      "16 \t <class 'int'>\n",
      "17 \t <class 'int'>\n",
      "18 \t <class 'int'>\n",
      "19 \t <class 'int'>\n",
      "20 \t <class 'int'>\n",
      "21 \t <class 'int'>\n",
      "22 \t <class 'int'>\n",
      "23 \t <class 'int'>\n",
      "24 \t <class 'int'>\n",
      "25 \t <class 'int'>\n",
      "26 \t <class 'int'>\n",
      "27 \t <class 'int'>\n",
      "28 \t <class 'int'>\n",
      "29 \t <class 'int'>\n",
      "30 \t <class 'int'>\n",
      "31 \t <class 'int'>\n",
      "32 \t <class 'int'>\n",
      "33 \t <class 'int'>\n",
      "34 \t <class 'int'>\n",
      "35 \t <class 'int'>\n",
      "36 \t <class 'int'>\n",
      "37 \t <class 'int'>\n",
      "38 \t <class 'int'>\n",
      "39 \t <class 'int'>\n",
      "40 \t <class 'int'>\n",
      "41 \t <class 'int'>\n",
      "42 \t <class 'int'>\n",
      "43 \t <class 'int'>\n",
      "44 \t <class 'int'>\n",
      "45 \t <class 'int'>\n",
      "46 \t <class 'int'>\n",
      "47 \t <class 'int'>\n",
      "48 \t <class 'int'>\n",
      "49 \t <class 'int'>\n",
      "50 \t <class 'int'>\n",
      "51 \t <class 'int'>\n",
      "52 \t <class 'int'>\n",
      "53 \t <class 'int'>\n",
      "54 \t <class 'int'>\n",
      "55 \t <class 'int'>\n",
      "56 \t <class 'int'>\n",
      "57 \t <class 'int'>\n",
      "58 \t <class 'int'>\n",
      "59 \t <class 'int'>\n",
      "60 \t <class 'int'>\n",
      "61 \t <class 'int'>\n",
      "62 \t <class 'int'>\n",
      "63 \t <class 'int'>\n",
      "64 \t <class 'int'>\n",
      "65 \t <class 'int'>\n",
      "66 \t <class 'int'>\n",
      "67 \t <class 'int'>\n",
      "68 \t <class 'int'>\n",
      "69 \t <class 'int'>\n",
      "70 \t <class 'int'>\n",
      "71 \t <class 'int'>\n",
      "72 \t <class 'int'>\n",
      "73 \t <class 'int'>\n",
      "74 \t <class 'int'>\n",
      "75 \t <class 'int'>\n",
      "76 \t <class 'int'>\n",
      "77 \t <class 'int'>\n",
      "78 \t <class 'int'>\n",
      "79 \t <class 'int'>\n",
      "80 \t <class 'int'>\n",
      "81 \t <class 'int'>\n",
      "82 \t <class 'int'>\n",
      "83 \t <class 'int'>\n",
      "84 \t <class 'int'>\n",
      "85 \t <class 'int'>\n",
      "86 \t <class 'int'>\n",
      "87 \t <class 'int'>\n",
      "88 \t <class 'int'>\n",
      "89 \t <class 'int'>\n",
      "90 \t <class 'int'>\n",
      "91 \t <class 'int'>\n",
      "92 \t <class 'int'>\n",
      "93 \t <class 'int'>\n",
      "94 \t <class 'int'>\n",
      "95 \t <class 'int'>\n",
      "96 \t <class 'int'>\n",
      "97 \t <class 'int'>\n",
      "98 \t <class 'int'>\n",
      "99 \t <class 'int'>\n",
      "100 \t <class 'int'>\n"
     ]
    }
   ],
   "source": [
    "for n in range(int(one_o_one)):\n",
    "    print(n, '\\t', type(n))"
   ]
  },
  {
   "cell_type": "code",
   "execution_count": null,
   "metadata": {},
   "outputs": [],
   "source": []
  }
 ],
 "metadata": {
  "kernelspec": {
   "display_name": "Python 3",
   "language": "python",
   "name": "python3"
  },
  "language_info": {
   "codemirror_mode": {
    "name": "ipython",
    "version": 3
   },
   "file_extension": ".py",
   "mimetype": "text/x-python",
   "name": "python",
   "nbconvert_exporter": "python",
   "pygments_lexer": "ipython3",
   "version": "3.9.0"
  }
 },
 "nbformat": 4,
 "nbformat_minor": 4
}
